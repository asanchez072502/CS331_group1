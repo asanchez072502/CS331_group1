{
  "cells": [
    {
      "attachments": {},
      "cell_type": "markdown",
      "id": "770e0bc2",
      "metadata": {},
      "source": [
        "# Group 1 Project--Anthony Sanchez\n",
        "\n",
        "- **Kernel:** SQL (Azure Data Studio recommended)  \n",
        "- **DB:** Northwinds2022TSQLV7  \n"
      ]
    },
    {
      "attachments": {},
      "cell_type": "markdown",
      "id": "64c1645f",
      "metadata": {},
      "source": [
        "### Database confirmation"
      ]
    },
    {
      "cell_type": "code",
      "execution_count": null,
      "id": "0d7f1942",
      "metadata": {},
      "outputs": [],
      "source": [
        "SELECT\n",
        "  DB_NAME()     AS [current_database],\n",
        "  SUSER_SNAME() AS [server_login],\n",
        "  USER_NAME()   AS [db_user];\n"
      ]
    },
    {
      "attachments": {},
      "cell_type": "markdown",
      "id": "7a90034c",
      "metadata": {},
      "source": [
        "## Case 1 — Empty Orders"
      ]
    },
    {
      "attachments": {},
      "cell_type": "markdown",
      "id": "57757c03",
      "metadata": {},
      "source": [
        "**Case Briefing:** Some orders exist without any line items which are suspicious 'empty shells'. We must locate orders with zero details and rank them by recency."
      ]
    },
    {
      "attachments": {},
      "cell_type": "markdown",
      "id": "cda252c0",
      "metadata": {},
      "source": [
        "**Task 1:** Pull minimal fields for all orders so we have the base population."
      ]
    },
    {
      "cell_type": "code",
      "execution_count": null,
      "id": "acbd0d08",
      "metadata": {},
      "outputs": [],
      "source": [
        "-- task1: orders\n",
        "SELECT o.OrderID, o.CustomerID, o.OrderDate\n",
        "INTO #c1_task1\n",
        "FROM Sales.[Order] o;\n"
      ]
    },
    {
      "attachments": {},
      "cell_type": "markdown",
      "id": "1ae98f8c",
      "metadata": {},
      "source": [
        "**Task 2:** Count how many detail rows each order has."
      ]
    },
    {
      "cell_type": "code",
      "execution_count": null,
      "id": "069e42b2",
      "metadata": {},
      "outputs": [],
      "source": [
        "-- task2: detail counts\n",
        "SELECT d.OrderID, COUNT(*) AS line_count\n",
        "INTO #c1_task2\n",
        "FROM Sales.OrderDetail d\n",
        "GROUP BY d.OrderID;\n"
      ]
    },
    {
      "attachments": {},
      "cell_type": "markdown",
      "id": "3e4765e8",
      "metadata": {},
      "source": [
        "**Task 3:** Join counts back onto orders to get a per-order line tally."
      ]
    },
    {
      "cell_type": "code",
      "execution_count": null,
      "id": "70739ec4",
      "metadata": {},
      "outputs": [],
      "source": [
        "-- task3: join counts\n",
        "SELECT t1.OrderID, t1.CustomerID, t1.OrderDate,\n",
        "       ISNULL(t2.line_count, 0) AS line_count\n",
        "INTO #c1_task3\n",
        "FROM #c1_task1 t1\n",
        "LEFT JOIN #c1_task2 t2 ON t2.OrderID = t1.OrderID;\n"
      ]
    },
    {
      "attachments": {},
      "cell_type": "markdown",
      "id": "ed3704dc",
      "metadata": {},
      "source": [
        "**Task 4:** Filter to orders with **zero** line items (potential data issues)."
      ]
    },
    {
      "cell_type": "code",
      "execution_count": null,
      "id": "ac646ad2",
      "metadata": {},
      "outputs": [],
      "source": [
        "-- task4: keep empties \n",
        "SELECT *\n",
        "INTO #c1_task4\n",
        "FROM #c1_task3\n",
        "WHERE line_count = 0;\n"
      ]
    },
    {
      "attachments": {},
      "cell_type": "markdown",
      "id": "8cb154bf",
      "metadata": {},
      "source": [
        "**Task 5:** Rank empty orders by recency and display results."
      ]
    },
    {
      "cell_type": "code",
      "execution_count": null,
      "id": "3fe54015",
      "metadata": {},
      "outputs": [],
      "source": [
        "-- task5: rank & final select \n",
        "SELECT *, ROW_NUMBER() OVER (ORDER BY OrderDate DESC, OrderID DESC) AS recency_rank\n",
        "INTO #c1_task5\n",
        "FROM #c1_task4;\n",
        "\n",
        "SELECT OrderID, CustomerID, OrderDate, line_count, recency_rank\n",
        "FROM #c1_task5\n",
        "ORDER BY recency_rank;\n"
      ]
    },
    {
      "attachments": {},
      "cell_type": "markdown",
      "id": "595b40ad",
      "metadata": {},
      "source": [
        "**Clear once found**"
      ]
    },
    {
      "cell_type": "code",
      "execution_count": null,
      "id": "949de6c7",
      "metadata": {},
      "outputs": [],
      "source": [
        "-- Cleanup for Case 1\n",
        "DROP TABLE IF EXISTS #c1_task1;\n",
        "DROP TABLE IF EXISTS #c1_task2;\n",
        "DROP TABLE IF EXISTS #c1_task3;\n",
        "DROP TABLE IF EXISTS #c1_task4;\n",
        "DROP TABLE IF EXISTS #c1_task5;\n"
      ]
    },
    {
      "attachments": {},
      "cell_type": "markdown",
      "id": "8d5bc754",
      "metadata": {},
      "source": [
        "## Case 2 — Charged Double"
      ]
    },
    {
      "attachments": {},
      "cell_type": "markdown",
      "id": "f5fe42d8",
      "metadata": {},
      "source": [
        "**Case Briefing:** There are potential double charges as the same customer places multiple orders on the same day with the same total. We must compute totals, group by day and customer, and surface duplicates."
      ]
    },
    {
      "attachments": {},
      "cell_type": "markdown",
      "id": "40eaccda",
      "metadata": {},
      "source": [
        "**Task 1 Briefing:** Compute value at the line level so discounts are accounted for."
      ]
    },
    {
      "cell_type": "code",
      "execution_count": null,
      "id": "39fc42ab",
      "metadata": {},
      "outputs": [],
      "source": [
        "-- task1: line net\n",
        "SELECT d.OrderID,\n",
        "       CAST(d.UnitPrice AS decimal(18,4)) * d.Quantity * (1 - ISNULL(d.Discount,0)) AS line_net\n",
        "INTO #c2_task1\n",
        "FROM Sales.OrderDetail d;\n"
      ]
    },
    {
      "attachments": {},
      "cell_type": "markdown",
      "metadata": {},
      "source": [
        "**Task 2 Briefing:** Aggregate line nets into per-order totals."
      ]
    },
    {
      "cell_type": "code",
      "execution_count": null,
      "id": "02bae57a",
      "metadata": {},
      "outputs": [],
      "source": [
        "-- task2: order totals\n",
        "SELECT OrderID, CAST(ROUND(SUM(line_net), 2) AS decimal(19,2)) AS order_total\n",
        "INTO #c2_task2\n",
        "FROM #c2_task1\n",
        "GROUP BY OrderID;\n"
      ]
    },
    {
      "attachments": {},
      "cell_type": "markdown",
      "id": "0dfb670c",
      "metadata": {},
      "source": [
        "**Task 3 Briefing:** Attach the customer and the order date."
      ]
    },
    {
      "cell_type": "code",
      "execution_count": null,
      "id": "402d9a07",
      "metadata": {},
      "outputs": [],
      "source": [
        "-- task3: attach customer + day\n",
        "SELECT o.OrderID, o.CustomerID, CAST(o.OrderDate AS date) AS order_day\n",
        "INTO #c2_task3\n",
        "FROM Sales.[Order] o;\n"
      ]
    },
    {
      "attachments": {},
      "cell_type": "markdown",
      "metadata": {},
      "source": [
        "**Task 4 Briefing:** Find groups of (customer, day, total) with 2+ orders."
      ]
    },
    {
      "cell_type": "code",
      "execution_count": null,
      "id": "64e8faad",
      "metadata": {},
      "outputs": [],
      "source": [
        "-- task4: dupe groups\n",
        "SELECT t3.CustomerID, t3.order_day, t2.order_total, COUNT(*) AS order_count\n",
        "INTO #c2_task4\n",
        "FROM #c2_task3 t3\n",
        "JOIN #c2_task2 t2 ON t2.OrderID = t3.OrderID\n",
        "GROUP BY t3.CustomerID, t3.order_day, t2.order_total\n",
        "HAVING COUNT(*) >= 2;\n"
      ]
    },
    {
      "attachments": {},
      "cell_type": "markdown",
      "metadata": {},
      "source": [
        "**Task 5 Briefing:** List all orders belonging to those duplicate groups."
      ]
    },
    {
      "cell_type": "code",
      "execution_count": null,
      "id": "ce0193c8",
      "metadata": {},
      "outputs": [],
      "source": [
        "-- task5: list members & final \n",
        "SELECT t3.CustomerID, t3.order_day, t2.order_total, t3.OrderID\n",
        "INTO #c2_task5\n",
        "FROM #c2_task4 g\n",
        "JOIN #c2_task3 t3 ON t3.CustomerID = g.CustomerID AND t3.order_day = g.order_day\n",
        "JOIN #c2_task2 t2 ON t2.OrderID = t3.OrderID AND t2.order_total = g.order_total;\n",
        "\n",
        "SELECT CustomerID, order_day, order_total, OrderID\n",
        "FROM #c2_task5\n",
        "ORDER BY order_day DESC, order_total DESC, CustomerID, OrderID;\n"
      ]
    },
    {
      "attachments": {},
      "cell_type": "markdown",
      "id": "9b312fa7",
      "metadata": {},
      "source": [
        "**Clear once found**"
      ]
    },
    {
      "cell_type": "code",
      "execution_count": null,
      "id": "5acb32f2",
      "metadata": {},
      "outputs": [],
      "source": [
        "-- Cleanup for Case 2\n",
        "DROP TABLE IF EXISTS #c2_task1;\n",
        "DROP TABLE IF EXISTS #c2_task2;\n",
        "DROP TABLE IF EXISTS #c2_task3;\n",
        "DROP TABLE IF EXISTS #c2_task4;\n",
        "DROP TABLE IF EXISTS #c2_task5;\n"
      ]
    },
    {
      "attachments": {},
      "cell_type": "markdown",
      "id": "9111a3b5",
      "metadata": {},
      "source": [
        "## Case 4 — Too Good to Be True"
      ]
    },
    {
      "attachments": {},
      "cell_type": "markdown",
      "id": "93c6dadc",
      "metadata": {},
      "source": [
        "**Case Briefing:** There are very risky discounts going around with very large discount percentages on high-value lines. We must compute value then rank the most suspicious."
      ]
    },
    {
      "attachments": {},
      "cell_type": "markdown",
      "id": "bb54e0f2",
      "metadata": {},
      "source": [
        "**Task 1:** Collect raw order line fields and normalize types for math."
      ]
    },
    {
      "cell_type": "code",
      "execution_count": null,
      "id": "c8caab5d",
      "metadata": {},
      "outputs": [],
      "source": [
        "-- task1: raw lines \n",
        "SELECT d.OrderID, d.ProductID,\n",
        "       CAST(d.UnitPrice AS decimal(18,4)) AS UnitPrice,\n",
        "       d.Quantity,\n",
        "       ISNULL(d.Discount,0) AS DiscountPct\n",
        "INTO #c4_task1\n",
        "FROM Sales.OrderDetail d;\n"
      ]
    },
    {
      "attachments": {},
      "cell_type": "markdown",
      "id": "9db84dc3",
      "metadata": {},
      "source": [
        "**Task 2:** Compute gross, discount value, and carry discount percentage."
      ]
    },
    {
      "cell_type": "code",
      "execution_count": null,
      "id": "dd04e40e",
      "metadata": {},
      "outputs": [],
      "source": [
        "-- task2: value math \n",
        "SELECT OrderID, ProductID,\n",
        "       UnitPrice * Quantity AS gross_value,\n",
        "       UnitPrice * Quantity * DiscountPct AS discount_value,\n",
        "       DiscountPct\n",
        "INTO #c4_task2\n",
        "FROM #c4_task1;\n"
      ]
    },
    {
      "attachments": {},
      "cell_type": "markdown",
      "id": "63aa5a5a",
      "metadata": {},
      "source": [
        "**Task 3:** Apply business thresholds."
      ]
    },
    {
      "cell_type": "code",
      "execution_count": null,
      "id": "dcbb43bd",
      "metadata": {},
      "outputs": [],
      "source": [
        "-- task3: thresholds \n",
        "SELECT *\n",
        "INTO #c4_task3\n",
        "FROM #c4_task2\n",
        "WHERE DiscountPct >= 0.40  -- 40%+\n",
        "  AND gross_value >= 200;  -- big-ticket\n"
      ]
    },
    {
      "attachments": {},
      "cell_type": "markdown",
      "id": "7a8034c1",
      "metadata": {},
      "source": [
        "**Task 4:** Compute net and discount ratio for sorting."
      ]
    },
    {
      "cell_type": "code",
      "execution_count": null,
      "id": "68ae81d0",
      "metadata": {},
      "outputs": [],
      "source": [
        "-- task4: compute net & ratio \n",
        "SELECT *, (gross_value - discount_value) AS net_value,\n",
        "       CASE WHEN gross_value > 0 THEN discount_value / gross_value END AS discount_ratio\n",
        "INTO #c4_task4\n",
        "FROM #c4_task3;\n"
      ]
    },
    {
      "attachments": {},
      "cell_type": "markdown",
      "id": "819998d1",
      "metadata": {},
      "source": [
        "**Task 5:** Rank suspicious lines and show the top entries."
      ]
    },
    {
      "cell_type": "code",
      "execution_count": null,
      "id": "074769cf",
      "metadata": {},
      "outputs": [],
      "source": [
        "-- task5: rank & final \n",
        "SELECT *, ROW_NUMBER() OVER (ORDER BY discount_value DESC, discount_ratio DESC) AS suspicion_rank\n",
        "INTO #c4_task5\n",
        "FROM #c4_task4;\n",
        "\n",
        "SELECT TOP (50) OrderID, ProductID, gross_value, discount_value, discount_ratio, net_value, suspicion_rank\n",
        "FROM #c4_task5\n",
        "ORDER BY suspicion_rank;\n"
      ]
    },
    {
      "attachments": {},
      "cell_type": "markdown",
      "id": "c53b24e9",
      "metadata": {},
      "source": [
        "**Clear once found**"
      ]
    },
    {
      "cell_type": "code",
      "execution_count": null,
      "id": "9b06ef14",
      "metadata": {},
      "outputs": [],
      "source": [
        "-- Cleanup for Case 4\n",
        "DROP TABLE IF EXISTS #c4_task1;\n",
        "DROP TABLE IF EXISTS #c4_task2;\n",
        "DROP TABLE IF EXISTS #c4_task3;\n",
        "DROP TABLE IF EXISTS #c4_task4;\n",
        "DROP TABLE IF EXISTS #c4_task5;\n"
      ]
    },
    {
      "attachments": {},
      "cell_type": "markdown",
      "id": "bf000c5c",
      "metadata": {},
      "source": [
        "## Case 5 — Employees with Zero Orders"
      ]
    },
    {
      "attachments": {},
      "cell_type": "markdown",
      "metadata": {},
      "source": [
        "**Case Briefing:** Identify employees who never appear on orders—potential onboarding, access, or tracking gap."
      ]
    },
    {
      "attachments": {},
      "cell_type": "markdown",
      "id": "75395fa4",
      "metadata": {},
      "source": [
        "**Task 1:** List all employees."
      ]
    },
    {
      "cell_type": "code",
      "execution_count": null,
      "id": "4f7eeefa",
      "metadata": {},
      "outputs": [],
      "source": [
        "-- task1: all employees\n",
        "SELECT e.EmployeeID\n",
        "INTO #c5_task1\n",
        "FROM HumanResources.Employee e;\n"
      ]
    },
    {
      "attachments": {},
      "cell_type": "markdown",
      "id": "c657ff2c",
      "metadata": {},
      "source": [
        "**Task 2:** Collect the set of employees that appear on any order."
      ]
    },
    {
      "cell_type": "code",
      "execution_count": null,
      "id": "848fb21e",
      "metadata": {},
      "outputs": [],
      "source": [
        "-- task2: employees seen on orders\n",
        "SELECT DISTINCT ISNULL(o.EmployeeID, -1) AS EmployeeID\n",
        "INTO #c5_task2\n",
        "FROM Sales.[Order] o;\n"
      ]
    },
    {
      "attachments": {},
      "cell_type": "markdown",
      "id": "819cf536",
      "metadata": {},
      "source": [
        "**Task 3:** Anti-join to find employees not present in orders."
      ]
    },
    {
      "cell_type": "code",
      "execution_count": null,
      "id": "36a456dc",
      "metadata": {},
      "outputs": [],
      "source": [
        "-- task3: anti-join\n",
        "SELECT t1.EmployeeID\n",
        "INTO #c5_task3\n",
        "FROM #c5_task1 t1\n",
        "LEFT JOIN #c5_task2 t2 ON t2.EmployeeID = t1.EmployeeID\n",
        "WHERE t2.EmployeeID IS NULL;\n"
      ]
    },
    {
      "attachments": {},
      "cell_type": "markdown",
      "id": "40da45c0",
      "metadata": {},
      "source": [
        "**Task 4:** Double-check order counts for those employees."
      ]
    },
    {
      "cell_type": "code",
      "execution_count": null,
      "id": "cbb6b78d",
      "metadata": {},
      "outputs": [],
      "source": [
        "-- task4: confirm counts\n",
        "SELECT t3.EmployeeID, COUNT(o.OrderID) AS order_count\n",
        "INTO #c5_task4\n",
        "FROM #c5_task3 t3\n",
        "LEFT JOIN Sales.[Order] o ON o.EmployeeID = t3.EmployeeID\n",
        "GROUP BY t3.EmployeeID;\n"
      ]
    },
    {
      "attachments": {},
      "cell_type": "markdown",
      "id": "18417c3f",
      "metadata": {},
      "source": [
        "**Task 5:** Keep employees with **zero** orders and output."
      ]
    },
    {
      "cell_type": "code",
      "execution_count": null,
      "id": "69e4c644",
      "metadata": {},
      "outputs": [],
      "source": [
        "-- task5: keep truly invisible & final\n",
        "SELECT EmployeeID\n",
        "INTO #c5_task5\n",
        "FROM #c5_task4\n",
        "WHERE order_count = 0;\n",
        "\n",
        "SELECT EmployeeID\n",
        "FROM #c5_task5\n",
        "ORDER BY EmployeeID;\n"
      ]
    },
    {
      "attachments": {},
      "cell_type": "markdown",
      "id": "d3de30a1",
      "metadata": {},
      "source": [
        "**Clear once found**"
      ]
    },
    {
      "cell_type": "code",
      "execution_count": null,
      "id": "645689f8",
      "metadata": {},
      "outputs": [],
      "source": [
        "-- Cleanup for Case 5\n",
        "DROP TABLE IF EXISTS #c5_task1;\n",
        "DROP TABLE IF EXISTS #c5_task2;\n",
        "DROP TABLE IF EXISTS #c5_task3;\n",
        "DROP TABLE IF EXISTS #c5_task4;\n",
        "DROP TABLE IF EXISTS #c5_task5;\n"
      ]
    },
    {
      "attachments": {},
      "cell_type": "markdown",
      "id": "e0128241",
      "metadata": {},
      "source": [
        "## Case 7 — Days Gone Missing"
      ]
    },
    {
      "attachments": {},
      "cell_type": "markdown",
      "metadata": {},
      "source": [
        "**Case Briefing:** Find dates with zero orders within the last 180 days—useful for spotting outages, holidays, or data gaps."
      ]
    },
    {
      "attachments": {},
      "cell_type": "markdown",
      "id": "c029e721",
      "metadata": {},
      "source": [
        "**Task 1:** Construct a 180-day calendar."
      ]
    },
    {
      "cell_type": "code",
      "execution_count": null,
      "id": "516b6e8d",
      "metadata": {},
      "outputs": [],
      "source": [
        "-- task1: last 180-day calendar\n",
        "SELECT CAST(DATEADD(day, n, DATEADD(day, -179, CAST(GETDATE() AS date))) AS date) AS d\n",
        "INTO #c7_task1\n",
        "FROM (SELECT TOP (180) ROW_NUMBER() OVER (ORDER BY (SELECT NULL)) - 1 AS n FROM dbo.Nums) x;\n"
      ]
    },
    {
      "attachments": {},
      "cell_type": "markdown",
      "id": "5819c954",
      "metadata": {},
      "source": [
        "**Task 2:** Count orders per calendar date (date-only grain)."
      ]
    },
    {
      "cell_type": "code",
      "execution_count": null,
      "id": "d9a158a4",
      "metadata": {},
      "outputs": [],
      "source": [
        "-- task2: orders per day\n",
        "SELECT CAST(o.OrderDate AS date) AS d, COUNT(*) AS orders_count\n",
        "INTO #c7_task2\n",
        "FROM Sales.[Order] o\n",
        "WHERE o.OrderDate >= DATEADD(day, -179, CAST(GETDATE() AS date))\n",
        "GROUP BY CAST(o.OrderDate AS date);\n"
      ]
    },
    {
      "attachments": {},
      "cell_type": "markdown",
      "id": "2e7cae76",
      "metadata": {},
      "source": [
        "**Task 3:** Left-join counts to the full calendar to surface missing days."
      ]
    },
    {
      "cell_type": "code",
      "execution_count": null,
      "id": "4253c445",
      "metadata": {},
      "outputs": [],
      "source": [
        "-- task3: join calendar\n",
        "SELECT t1.d, ISNULL(t2.orders_count,0) AS orders_count\n",
        "INTO #c7_task3\n",
        "FROM #c7_task1 t1\n",
        "LEFT JOIN #c7_task2 t2 ON t2.d = t1.d;\n"
      ]
    },
    {
      "attachments": {},
      "cell_type": "markdown",
      "id": "30c793cf",
      "metadata": {},
      "source": [
        "**Task 4:** Filter to days with zero orders."
      ]
    },
    {
      "cell_type": "code",
      "execution_count": null,
      "id": "3e8bb7a2",
      "metadata": {},
      "outputs": [],
      "source": [
        "-- task4: detect gaps\n",
        "SELECT d\n",
        "INTO #c7_task4\n",
        "FROM #c7_task3\n",
        "WHERE orders_count = 0;\n"
      ]
    },
    {
      "attachments": {},
      "cell_type": "markdown",
      "id": "7cfa370c",
      "metadata": {},
      "source": [
        "**Task 5:** Rank gaps by recency and output."
      ]
    },
    {
      "cell_type": "code",
      "execution_count": null,
      "id": "584aa766",
      "metadata": {},
      "outputs": [],
      "source": [
        "-- task5: rank & final\n",
        "SELECT d, ROW_NUMBER() OVER (ORDER BY d DESC) AS gap_rank\n",
        "INTO #c7_task5\n",
        "FROM #c7_task4;\n",
        "\n",
        "SELECT d AS MissingOrderDate, gap_rank\n",
        "FROM #c7_task5\n",
        "ORDER BY d DESC;\n"
      ]
    },
    {
      "attachments": {},
      "cell_type": "markdown",
      "id": "b67d408b",
      "metadata": {},
      "source": [
        "**Clear once found**"
      ]
    },
    {
      "cell_type": "code",
      "execution_count": null,
      "id": "e9ec099b",
      "metadata": {},
      "outputs": [],
      "source": [
        "-- Cleanup for Case 7\n",
        "DROP TABLE IF EXISTS #c7_task1;\n",
        "DROP TABLE IF EXISTS #c7_task2;\n",
        "DROP TABLE IF EXISTS #c7_task3;\n",
        "DROP TABLE IF EXISTS #c7_task4;\n",
        "DROP TABLE IF EXISTS #c7_task5;\n"
      ]
    }
  ],
  "metadata": {
    "kernelspec": {
      "display_name": "SQL",
      "language": "sql",
      "name": "SQL"
    },
    "language_info": {
      "name": "sql"
    }
  },
  "nbformat": 4,
  "nbformat_minor": 5
}
